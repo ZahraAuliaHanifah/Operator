{
 "cells": [
  {
   "cell_type": "markdown",
   "id": "5b686fbb",
   "metadata": {},
   "source": [
    "<font color=\"black\"><h1>Operator Pada Python</h1><hr></font>"
   ]
  },
  {
   "cell_type": "markdown",
   "id": "2377faf1",
   "metadata": {},
   "source": [
    "<h3>1. Operator Aritmatika</h3>"
   ]
  },
  {
   "cell_type": "code",
   "execution_count": 2,
   "id": "08e42fc8",
   "metadata": {},
   "outputs": [
    {
     "name": "stdout",
     "output_type": "stream",
     "text": [
      "23\n",
      "7\n",
      "120\n",
      "1.875\n",
      "1\n",
      "2562890625\n",
      "7\n"
     ]
    }
   ],
   "source": [
    "num1 = 15\n",
    "num2 = 8\n",
    "\n",
    "hasil_jumlah = num1 + num2\n",
    "hasil_kurang = num1 - num2\n",
    "hasil_kali = num1 * num2\n",
    "hasil_bagi = num1 / num2\n",
    "hasil_bagi_bulat = num1 // num2\n",
    "hasil_pangkat = num1 ** num2\n",
    "hasil_modulus = num1 % num2\n",
    "\n",
    "print(hasil_jumlah)\n",
    "print(hasil_kurang)\n",
    "print(hasil_kali)\n",
    "print(hasil_bagi)\n",
    "print(hasil_bagi_bulat)\n",
    "print(hasil_pangkat)\n",
    "print(hasil_modulus)"
   ]
  },
  {
   "cell_type": "markdown",
   "id": "7bc08266",
   "metadata": {},
   "source": [
    "<h3>2. Operator Penugasan</h3>"
   ]
  },
  {
   "cell_type": "code",
   "execution_count": 3,
   "id": "b23f9d26",
   "metadata": {},
   "outputs": [
    {
     "name": "stdout",
     "output_type": "stream",
     "text": [
      "12\n",
      "19\n",
      "11\n",
      "33\n",
      "8.25\n",
      "1.0\n",
      "1.0\n",
      "1.0\n"
     ]
    }
   ],
   "source": [
    "x = 12\n",
    "print(x)\n",
    "x += 7\n",
    "print(x)\n",
    "x -= 8\n",
    "print(x)\n",
    "x *= 3\n",
    "print(x)\n",
    "x /= 4\n",
    "print(x)\n",
    "x //= 5\n",
    "print(x)\n",
    "x **= 3\n",
    "print(x)\n",
    "x %= 9\n",
    "print(x)\n"
   ]
  },
  {
   "cell_type": "markdown",
   "id": "8a4d6812",
   "metadata": {},
   "source": [
    "<h3>3. Operator Perbandingan</h3>"
   ]
  },
  {
   "cell_type": "code",
   "execution_count": 4,
   "id": "690be573",
   "metadata": {},
   "outputs": [
    {
     "name": "stdout",
     "output_type": "stream",
     "text": [
      "False\n",
      "True\n",
      "False\n",
      "True\n",
      "True\n",
      "True\n"
     ]
    }
   ],
   "source": [
    "z = 5\n",
    "x = 7\n",
    "\n",
    "print(z==x)\n",
    "print(z!=x)\n",
    "print(z>x)\n",
    "print(z<x)\n",
    "print(z>=5)\n",
    "print(x<=7)"
   ]
  },
  {
   "cell_type": "markdown",
   "id": "4fc392b9",
   "metadata": {},
   "source": [
    "<h3>4. Operator Logika</h3>"
   ]
  },
  {
   "cell_type": "code",
   "execution_count": 5,
   "id": "44438ce8",
   "metadata": {},
   "outputs": [
    {
     "name": "stdout",
     "output_type": "stream",
     "text": [
      "True\n",
      "True\n",
      "False\n"
     ]
    }
   ],
   "source": [
    "val1 = 14\n",
    "val2 = 3\n",
    "opr_and = val1 > val2 and val1 < 16\n",
    "opr_or = val1 == 11 or val2 >=3\n",
    "opr_not = not (opr_and and opr_or)\n",
    "\n",
    "print(opr_and)\n",
    "print(opr_or)\n",
    "print(opr_not)"
   ]
  },
  {
   "cell_type": "markdown",
   "id": "02fd6337",
   "metadata": {},
   "source": [
    "<h3>5. Operator Identitas</h3>"
   ]
  },
  {
   "cell_type": "code",
   "execution_count": 6,
   "id": "e6fe2b99",
   "metadata": {},
   "outputs": [
    {
     "name": "stdout",
     "output_type": "stream",
     "text": [
      "True\n",
      "False\n",
      "True\n"
     ]
    }
   ],
   "source": [
    "fruits = [\"Pir\",\"Durian\",\"Semangka\",\"Mangga\"]\n",
    "fav_fruits = fruits\n",
    "your_fruits = [\"Pir\",\"Durian\",\"Semangka\",\"Mangga\"]\n",
    "#jika variabelnya banyak, maka memory penempatannya berbeda. seperti pada array, arraylist, dls.\n",
    "name = \"Zahra\"\n",
    "your_name = \"Zahra\"\n",
    "#jika variablenya single, maka memory penempatannya akan sama.\n",
    "\n",
    "print(fav_fruits is fruits)\n",
    "print(fruits is your_fruits)\n",
    "print(name is your_name)"
   ]
  },
  {
   "cell_type": "markdown",
   "id": "fa0ebf22",
   "metadata": {},
   "source": [
    "<h3>6. Operator Keanggotaan</h3>"
   ]
  },
  {
   "cell_type": "code",
   "execution_count": 8,
   "id": "b96d5991",
   "metadata": {},
   "outputs": [
    {
     "name": "stdout",
     "output_type": "stream",
     "text": [
      "True\n",
      "False\n",
      "False\n",
      "False\n",
      "True\n"
     ]
    }
   ],
   "source": [
    "city = [\"Jakarta\",\"Malang\",\"Sukabumi\"]\n",
    "\n",
    "print(\"Jakarta\" in city)\n",
    "print(\"Bandung\" in city)\n",
    "print(\"Malang\" not in city)\n",
    "print(\"Sukabumi\" in city and \"Malang\" not in city)\n",
    "print(\"Jakarta\" not in city or \"Sukabumi\" in city)"
   ]
  },
  {
   "cell_type": "markdown",
   "id": "1030cfcb",
   "metadata": {},
   "source": [
    "<h3>7. Operator Bitwise</h3>"
   ]
  },
  {
   "cell_type": "code",
   "execution_count": 12,
   "id": "0ffaa3d0",
   "metadata": {},
   "outputs": [
    {
     "name": "stdout",
     "output_type": "stream",
     "text": [
      "15\n",
      "255\n",
      "240\n",
      "256\n",
      "32\n"
     ]
    }
   ],
   "source": [
    "nilai1 = 255\n",
    "nilai2 = 15\n",
    "bit_and = nilai1 & nilai2\n",
    "bit_or = nilai1 | nilai2\n",
    "bit_xor = nilai1 ^ nilai2\n",
    "#11111111 => 255\n",
    "#00001111 => 15\n",
    "#---------------- and\n",
    "#00001111 => 15\n",
    "#---------------- or\n",
    "#11111111 => 255\n",
    "#---------------- xor\n",
    "#11110000 => 240\n",
    "print(bit_and)\n",
    "print(bit_or)\n",
    "print(bit_xor)\n",
    "\n",
    "#shift left\n",
    "print(128 << 1)\n",
    "#artinya geser ke kiri 1 bit jadi 256\n",
    "print(128 >> 2)"
   ]
  }
 ],
 "metadata": {
  "kernelspec": {
   "display_name": "Python 3 (ipykernel)",
   "language": "python",
   "name": "python3"
  },
  "language_info": {
   "codemirror_mode": {
    "name": "ipython",
    "version": 3
   },
   "file_extension": ".py",
   "mimetype": "text/x-python",
   "name": "python",
   "nbconvert_exporter": "python",
   "pygments_lexer": "ipython3",
   "version": "3.9.12"
  }
 },
 "nbformat": 4,
 "nbformat_minor": 5
}
