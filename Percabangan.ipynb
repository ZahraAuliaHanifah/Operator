{
 "cells": [
  {
   "cell_type": "markdown",
   "id": "96ffe679",
   "metadata": {},
   "source": [
    "Sintaks:\n",
    "1. Jika terdapat 1 kondisi\n",
    "\n",
    "if kondisi:\n",
    "<tab>statement 1"
   ]
  },
  {
   "cell_type": "code",
   "execution_count": 2,
   "id": "79a00351",
   "metadata": {},
   "outputs": [
    {
     "name": "stdout",
     "output_type": "stream",
     "text": [
      "Hari ini sangat cerah\n"
     ]
    }
   ],
   "source": [
    "cuaca = \"Panas\"\n",
    "if cuaca == \"Hujan\":\n",
    "    print(\"Dingin\")\n",
    "print(\"Hari ini sangat cerah\") #bagian ini tidak masuk ke bagian statement"
   ]
  },
  {
   "cell_type": "code",
   "execution_count": 5,
   "id": "67d20f33",
   "metadata": {},
   "outputs": [
    {
     "name": "stdout",
     "output_type": "stream",
     "text": [
      "Dingin\n",
      "Hari ini sangat cerah\n"
     ]
    }
   ],
   "source": [
    "cuaca = \"Hujan\"\n",
    "if cuaca == \"Hujan\":\n",
    "    print(\"Dingin\")\n",
    "print(\"Hari ini sangat cerah\")"
   ]
  },
  {
   "cell_type": "markdown",
   "id": "dd6abef4",
   "metadata": {},
   "source": [
    "2. jika terdapat 2 kondisi\n",
    "\n",
    "if_kondisi 1\n",
    "<tab>statement 1\n",
    "elif_kondisi 2\n",
    "<tab>statement 2"
   ]
  },
  {
   "cell_type": "code",
   "execution_count": 4,
   "id": "1e76a283",
   "metadata": {},
   "outputs": [
    {
     "name": "stdout",
     "output_type": "stream",
     "text": [
      "10 adalah bilangan genap\n"
     ]
    }
   ],
   "source": [
    "#Menentukan ganjil genap\n",
    "nilai = 10\n",
    "sisa_bagi = nilai % 2\n",
    "if sisa_bagi ==0:\n",
    "    print(f\"{nilai} adalah bilangan genap\")\n",
    "else:\n",
    "    print(f\"{nilai} adalah bilangan ganjil\")"
   ]
  },
  {
   "cell_type": "code",
   "execution_count": null,
   "id": "39e0fe56",
   "metadata": {},
   "outputs": [],
   "source": [
    "3. Jika terdapat kondisi lebih dari 2\n",
    "sintaksnya:\n",
    "    if kondisi_1:\n",
    "    <tab>statement 1\n",
    "    elif kondisi_2:\n",
    "    <tab>statement 2\n",
    "    else kondisi_3\n",
    "    <tab>statement_3"
   ]
  },
  {
   "cell_type": "code",
   "execution_count": 21,
   "id": "b9a59cd6",
   "metadata": {},
   "outputs": [
    {
     "name": "stdout",
     "output_type": "stream",
     "text": [
      "Isikan Nilai Pemrograman : -12\n",
      "Yang bener aja, rugi dong!\n"
     ]
    }
   ],
   "source": [
    "#Konversi Nilai\n",
    "nilai = int(input('Isikan Nilai Pemrograman : '))\n",
    "if nilai >=0 and nilai <=100:\n",
    "    if nilai <=50:\n",
    "        print(f\"Nilainya {nilai} = E, kurangin main gamenya\")\n",
    "    elif nilai <=59:\n",
    "        print(f\"Nilainya {nilai} = D, lebih rajin lagi belajarnya\")\n",
    "    elif nilai <=69:\n",
    "        print(f\"Nilainya {nilai} = C, lumayanlah\")\n",
    "    elif nilai <=84:\n",
    "        print(f\"Nilainya {nilai} = B, widihh bisaan eng\")\n",
    "    elif nilai <=100:\n",
    "        print(f\"Nilainya {nilai} = A, ilmu padi abangku\")\n",
    "else:\n",
    "    print(\"Yang bener aja, rugi dong!\")"
   ]
  },
  {
   "cell_type": "code",
   "execution_count": 27,
   "id": "0888823f",
   "metadata": {},
   "outputs": [
    {
     "name": "stdout",
     "output_type": "stream",
     "text": [
      "Masukkan Username anda : admin\n",
      "Masukkan Password anda : admin\n",
      "Selamat datang admin\n"
     ]
    }
   ],
   "source": [
    "username = input('Masukkan Username anda : ')\n",
    "password = input('Masukkan Password anda : ')\n",
    "\n",
    "if username == 'admin':\n",
    "    if password == 'admin':\n",
    "        print(f'Selamat datang {username}')\n",
    "    else:\n",
    "        print('Password anda salah')\n",
    "else:\n",
    "    if password == 'admin':\n",
    "        print('Username anda salah')\n",
    "    else:\n",
    "        print('Username dan Password anda salah')"
   ]
  },
  {
   "cell_type": "code",
   "execution_count": 29,
   "id": "43acf231",
   "metadata": {},
   "outputs": [
    {
     "name": "stdout",
     "output_type": "stream",
     "text": [
      "Masukkan nama : Santi\n",
      "Masukkan umur : 24\n",
      "Tinggalnya dimana : California\n",
      "Tabungannya berapa : 800000\n",
      "Hayoh... Santi, kemungkinan kamu anggota mafia dengan pangkat Capo\n"
     ]
    }
   ],
   "source": [
    "nama = input('Masukkan nama : ')\n",
    "umur = int(input('Masukkan umur : '))\n",
    "tempat_tinggal = input('Tinggalnya dimana : ')\n",
    "uang_tabungan = int(input('Tabungannya berapa : '))\n",
    "\n",
    "pangkat = ''\n",
    "\n",
    "if umur > 40:\n",
    "    if tempat_tinggal == 'Nevada' or tempat_tinggal == 'New York' or tempat_tinggal == 'Havana':\n",
    "        if uang_tabungan > 10000000:\n",
    "            pangkat = 'Don'\n",
    "            \n",
    "elif umur >= 25 and umur <= 40:\n",
    "    if tempat_tinggal == 'New Jersey' or tempat_tinggal == 'Manhattan' or tempat_tinggal == 'Nevada':\n",
    "        if uang_tabungan > 1000000 and uang_tabungan <2000000:\n",
    "            pangkat = 'Underboss'\n",
    "            \n",
    "elif umur >= 18 and umur <=24:\n",
    "    if tempat_tinggal == 'California' or tempat_tinggal == 'Detroit' or tempat_tinggal == 'Boston':\n",
    "        if uang_tabungan < 1000000:\n",
    "            pangkat = 'Capo'\n",
    "            \n",
    "if pangkat != '':\n",
    "    print(f\"Hayoh... {nama}, kemungkinan kamu anggota mafia dengan pangkat {pangkat}.\")\n",
    "else:\n",
    "    print(f\"Selamat! {nama} tidak mencurigakan. \")\n",
    "    "
   ]
  }
 ],
 "metadata": {
  "kernelspec": {
   "display_name": "Python 3 (ipykernel)",
   "language": "python",
   "name": "python3"
  },
  "language_info": {
   "codemirror_mode": {
    "name": "ipython",
    "version": 3
   },
   "file_extension": ".py",
   "mimetype": "text/x-python",
   "name": "python",
   "nbconvert_exporter": "python",
   "pygments_lexer": "ipython3",
   "version": "3.9.12"
  }
 },
 "nbformat": 4,
 "nbformat_minor": 5
}
